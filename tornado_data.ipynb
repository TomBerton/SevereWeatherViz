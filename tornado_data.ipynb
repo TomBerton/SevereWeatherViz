{
 "cells": [
  {
   "cell_type": "code",
   "execution_count": 1,
   "metadata": {},
   "outputs": [],
   "source": [
    "# import necessary libraries\n",
    "import sqlalchemy\n",
    "from sqlalchemy.ext.automap import automap_base\n",
    "from sqlalchemy.orm import Session\n",
    "from sqlalchemy import inspect, create_engine, func, MetaData, Table\n",
    "import datetime as dt\n",
    "from datetime import time\n",
    "import pandas as pd\n",
    "import numpy as np\n",
    "import json"
   ]
  },
  {
   "cell_type": "code",
   "execution_count": 2,
   "metadata": {},
   "outputs": [],
   "source": [
    "# Database Setup\n",
    "engine = create_engine('sqlite:///SevereWeather.sqlite', echo=False)\n",
    "\n",
    "# produce our own MetaData object\n",
    "metadata = MetaData()\n",
    "\n",
    "# we can reflect it ourselves from a database, using options\n",
    "# such as 'only' to limit what tables we look at...\n",
    "metadata.reflect(engine)\n",
    "\n",
    "Base = automap_base()\n",
    "Base.prepare(engine, reflect=True)"
   ]
  },
  {
   "cell_type": "code",
   "execution_count": 3,
   "metadata": {},
   "outputs": [],
   "source": [
    "inspector = inspect(engine)\n",
    "Events = Table('Events',metadata)\n",
    "inspector.reflecttable(Events, None)\n",
    "session = Session(bind=engine)"
   ]
  },
  {
   "cell_type": "code",
   "execution_count": 4,
   "metadata": {},
   "outputs": [],
   "source": [
    "events_df = pd.read_sql_table('Events', engine)"
   ]
  },
  {
   "cell_type": "code",
   "execution_count": 5,
   "metadata": {},
   "outputs": [
    {
     "name": "stdout",
     "output_type": "stream",
     "text": [
      "<class 'pandas.core.frame.DataFrame'>\n",
      "RangeIndex: 197287 entries, 0 to 197286\n",
      "Data columns (total 15 columns):\n",
      "level_0      197287 non-null int64\n",
      "index        197287 non-null int64\n",
      "yr           197287 non-null int64\n",
      "mo           197287 non-null int64\n",
      "dy           197287 non-null int64\n",
      "st           197287 non-null object\n",
      "mag          197287 non-null float64\n",
      "inj          197287 non-null int64\n",
      "fat          197287 non-null int64\n",
      "loss         197287 non-null float64\n",
      "closs        197287 non-null float64\n",
      "slat         197287 non-null float64\n",
      "slon         197287 non-null float64\n",
      "type         197287 non-null object\n",
      "date_time    197287 non-null datetime64[ns]\n",
      "dtypes: datetime64[ns](1), float64(5), int64(7), object(2)\n",
      "memory usage: 22.6+ MB\n"
     ]
    }
   ],
   "source": [
    "events_df.info()"
   ]
  },
  {
   "cell_type": "code",
   "execution_count": 6,
   "metadata": {},
   "outputs": [],
   "source": [
    "tornado_df = events_df.loc[events_df['type']==\"torn\"]"
   ]
  },
  {
   "cell_type": "code",
   "execution_count": 7,
   "metadata": {},
   "outputs": [],
   "source": [
    "value = ['2010']\n",
    "tornado_2010_df = tornado_df[tornado_df.yr.isin(value)]"
   ]
  },
  {
   "cell_type": "code",
   "execution_count": 8,
   "metadata": {},
   "outputs": [
    {
     "name": "stderr",
     "output_type": "stream",
     "text": [
      "/Users/tom/anaconda/lib/python3.6/site-packages/ipykernel_launcher.py:1: SettingWithCopyWarning: \n",
      "A value is trying to be set on a copy of a slice from a DataFrame.\n",
      "Try using .loc[row_indexer,col_indexer] = value instead\n",
      "\n",
      "See the caveats in the documentation: http://pandas.pydata.org/pandas-docs/stable/indexing.html#indexing-view-versus-copy\n",
      "  \"\"\"Entry point for launching an IPython kernel.\n"
     ]
    }
   ],
   "source": [
    "tornado_2010_df['date_time'] = [dt.date.strftime(x,'%Y-%m-%d%H:%M:%S') for x in tornado_2010_df.date_time]"
   ]
  },
  {
   "cell_type": "code",
   "execution_count": 9,
   "metadata": {},
   "outputs": [
    {
     "name": "stdout",
     "output_type": "stream",
     "text": [
      "<class 'pandas.core.frame.DataFrame'>\n",
      "Int64Index: 1315 entries, 0 to 1314\n",
      "Data columns (total 15 columns):\n",
      "level_0      1315 non-null int64\n",
      "index        1315 non-null int64\n",
      "yr           1315 non-null int64\n",
      "mo           1315 non-null int64\n",
      "dy           1315 non-null int64\n",
      "st           1315 non-null object\n",
      "mag          1315 non-null float64\n",
      "inj          1315 non-null int64\n",
      "fat          1315 non-null int64\n",
      "loss         1315 non-null float64\n",
      "closs        1315 non-null float64\n",
      "slat         1315 non-null float64\n",
      "slon         1315 non-null float64\n",
      "type         1315 non-null object\n",
      "date_time    1315 non-null object\n",
      "dtypes: float64(5), int64(7), object(3)\n",
      "memory usage: 164.4+ KB\n"
     ]
    }
   ],
   "source": [
    "tornado_2010_df.info()"
   ]
  },
  {
   "cell_type": "code",
   "execution_count": null,
   "metadata": {},
   "outputs": [],
   "source": [
    "locations = tornado_2010_df[['slat', 'slon']]\n",
    "locationlist = locations.values.tolist()\n",
    "len(locationlist)\n",
    "locationlist[1:5]"
   ]
  },
  {
   "cell_type": "code",
   "execution_count": 10,
   "metadata": {},
   "outputs": [],
   "source": [
    "from geojson import Feature, FeatureCollection, Point"
   ]
  },
  {
   "cell_type": "code",
   "execution_count": 11,
   "metadata": {},
   "outputs": [],
   "source": [
    "# columns used for constructing geojson object\n",
    "features = tornado_2010_df.apply(\n",
    "    lambda row: Feature(geometry=Point((float(row['slon']), float(row['slat'])))),\n",
    "    axis=1).values.tolist()\n",
    "\n",
    "# all the other columns used as properties\n",
    "properties = tornado_2010_df.drop(['slat', 'slon'], axis=1).to_dict('records')\n",
    "\n",
    "# whole geojson object\n",
    "feature_collection = FeatureCollection(features=features, properties=properties)"
   ]
  },
  {
   "cell_type": "code",
   "execution_count": 12,
   "metadata": {},
   "outputs": [],
   "source": [
    "with open('tornado_2010.geojson', 'w', encoding='utf-8') as f:\n",
    "    json.dump(feature_collection, f, ensure_ascii=False)"
   ]
  },
  {
   "cell_type": "code",
   "execution_count": null,
   "metadata": {},
   "outputs": [],
   "source": []
  }
 ],
 "metadata": {
  "kernelspec": {
   "display_name": "Python 3",
   "language": "python",
   "name": "python3"
  },
  "language_info": {
   "codemirror_mode": {
    "name": "ipython",
    "version": 3
   },
   "file_extension": ".py",
   "mimetype": "text/x-python",
   "name": "python",
   "nbconvert_exporter": "python",
   "pygments_lexer": "ipython3",
   "version": "3.6.4"
  }
 },
 "nbformat": 4,
 "nbformat_minor": 2
}
