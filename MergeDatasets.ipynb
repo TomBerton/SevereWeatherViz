{
 "cells": [
  {
   "cell_type": "code",
   "execution_count": 1,
   "metadata": {
    "collapsed": true
   },
   "outputs": [],
   "source": [
    "import pandas as pd"
   ]
  },
  {
   "cell_type": "code",
   "execution_count": 2,
   "metadata": {
    "collapsed": true
   },
   "outputs": [],
   "source": [
    "base_url = \"http://www.spc.noaa.gov/wcm/data/\"\n",
    "\n",
    "years = [\"2010\",\"2011\",\"2012\",\"2013\",\"2014\",\"2015\",\"2016\"]\n",
    "types = ['torn','hail','wind']\n",
    "\n",
    "source_headings = {\n",
    "    'torn':['om', 'yr', 'mo', 'dy', 'date', 'time', 'tz', 'st', 'stf', 'stn', 'mag',\n",
    "           'inj', 'fat', 'loss', 'closs', 'slat', 'slon', 'elat', 'elon', 'len',\n",
    "           'wid', 'ns', 'sn', 'sg', 'f1', 'f2', 'f3', 'f4', 'fc'],\n",
    "    'hail':['om','yr','mo','dy','date','time','tz','st','stf','stn','mag',\n",
    "            'inj','fat','loss','closs','slat','slon','elat','elon','len',\n",
    "            'wid','ns','sn','sg','f1','f2','f3','f4'],\n",
    "    'wind':['om','yr','mo','dy','date','time','tz','st','stf','stn','mag',\n",
    "            'inj','fat','loss','closs','slat','slon','elat','elon','len',\n",
    "            'wid','ns','sn','sg','f1','f2','f3','f4','mt']\n",
    "}\n",
    "\n",
    "filtered_columns = [\"yr\",\"mo\",\"dy\",\"date\",\"time\",\"st\",\"mag\",\"inj\",\"fat\",\"loss\",\"closs\",\"slat\",\"slon\"]"
   ]
  },
  {
   "cell_type": "code",
   "execution_count": 3,
   "metadata": {},
   "outputs": [
    {
     "name": "stdout",
     "output_type": "stream",
     "text": [
      "     yr mo  dy        date      time  st mag inj fat  loss closs     slat  \\\n",
      "0  2010  1  18  2010-01-18  17:24:00  CA   0   0   0   0.0   0.0    36.73   \n",
      "1  2010  1  19  2010-01-19  12:32:00  CA   0   0   0   0.0   0.0  34.4248   \n",
      "2  2010  1  19  2010-01-19  14:55:00  CA   1   0   0   0.5   0.0   33.716   \n",
      "3  2010  1  20  2010-01-20  15:27:00  LA   0   0   0   0.0   0.0   30.815   \n",
      "4  2010  1  20  2010-01-20  16:26:00  TX   1   0   0  0.04   0.0  31.5095   \n",
      "\n",
      "       slon  type  \n",
      "0   -119.86  torn  \n",
      "1  -119.877  torn  \n",
      "2  -118.125  torn  \n",
      "3  -92.0455  torn  \n",
      "4  -93.9232  torn  \n",
      "     yr  mo  dy        date      time  st   mag  inj  fat  loss  closs  \\\n",
      "0  2010  12  31  2010-12-31  22:40:00  MS  1.75    0    0   0.0    0.0   \n",
      "1  2010  12  31  2010-12-31  22:25:00  MS  1.75    0    0   0.0    0.0   \n",
      "2  2010  12  31  2010-12-31  22:20:00  MS  1.75    0    0   0.0    0.0   \n",
      "3  2010  12  31  2010-12-31  22:20:00  MS  1.00    0    0   0.0    0.0   \n",
      "4  2010  12  31  2010-12-31  21:50:00  AR  1.00    0    0   0.0    0.0   \n",
      "\n",
      "      slat     slon  type  \n",
      "0  33.2964 -89.9870  hail  \n",
      "1  33.1591 -90.1933  hail  \n",
      "2  33.9972 -88.6277  hail  \n",
      "3  32.5300 -91.0200  hail  \n",
      "4  35.6976 -90.0508  hail  \n",
      "     yr  mo  dy        date      time  st  mag  inj  fat   loss  closs  \\\n",
      "0  2010   1  18  2010-01-18  12:23:00  CA   51    0    0  0.000    0.0   \n",
      "1  2010   1  18  2010-01-18  13:03:00  CA   70    0    0  0.000    0.0   \n",
      "2  2010   1  19  2010-01-19  15:00:00  CA   81    0    0  0.350    0.0   \n",
      "3  2010   1  19  2010-01-19  15:35:00  CA   70    0    0  0.025    0.0   \n",
      "4  2010   1  19  2010-01-19  15:58:00  CA   52    0    0  0.000    0.0   \n",
      "\n",
      "      slat     slon  type  \n",
      "0  37.6200 -122.380  wind  \n",
      "1  37.4411 -121.941  wind  \n",
      "2  33.6533 -117.918  wind  \n",
      "3  33.5263 -117.781  wind  \n",
      "4  33.4104 -117.645  wind  \n",
      "     yr mo dy        date      time  st mag inj fat   loss closs     slat  \\\n",
      "0  2011  1  1  2011-01-01  00:02:00  MS   3   2   0    3.0   2.0  33.0394   \n",
      "1  2011  1  1  2011-01-01  00:40:00  MS   1   0   0  0.065   0.0  33.2625   \n",
      "2  2011  1  1  2011-01-01  00:46:00  MS   1   0   0   0.02   0.0  33.2839   \n",
      "3  2011  1  1  2011-01-01  01:15:00  MS   1   0   0    3.0   0.0  33.4386   \n",
      "4  2011  1  1  2011-01-01  02:00:00  MS   2   0   0    0.8   0.0  32.9012   \n",
      "\n",
      "       slon  type  \n",
      "0  -89.8123  torn  \n",
      "1  -89.2957  torn  \n",
      "2    -89.24  torn  \n",
      "3  -88.8419  torn  \n",
      "4  -88.7666  torn  \n",
      "     yr  mo  dy        date      time  st   mag  inj  fat  loss  closs   slat  \\\n",
      "0  2011   1   9  2011-01-09  03:48:00  TX  1.00    0    0  0.02    0.0  27.67   \n",
      "1  2011   1   9  2011-01-09  04:24:00  TX  1.50    0    0  1.00    0.0  27.90   \n",
      "2  2011   1  10  2011-01-10  07:10:00  FL  0.75    0    0  0.00    0.0  30.28   \n",
      "3  2011   1  10  2011-01-10  10:58:00  FL  1.00    0    0  0.00    0.0  28.14   \n",
      "4  2011   1  17  2011-01-17  09:40:00  FL  1.00    0    0  0.00    0.0  27.58   \n",
      "\n",
      "    slon  type  \n",
      "0 -97.75  hail  \n",
      "1 -97.15  hail  \n",
      "2 -82.13  hail  \n",
      "3 -82.78  hail  \n",
      "4 -82.46  hail  \n",
      "     yr  mo  dy        date      time  st  mag  inj  fat   loss  closs   slat  \\\n",
      "0  2011   1   1  2011-01-01  00:12:00  MS   50    0    0  0.000    0.0  32.02   \n",
      "1  2011   1   1  2011-01-01  00:27:00  MS   50    0    0  0.003    0.0  32.66   \n",
      "2  2011   1   1  2011-01-01  01:08:00  MS   50    0    0  0.002    0.0  32.49   \n",
      "3  2011   1   1  2011-01-01  01:20:00  MS   55    0    0  0.002    0.0  32.75   \n",
      "4  2011   1   1  2011-01-01  01:22:00  MS   55    0    0  0.003    0.0  32.60   \n",
      "\n",
      "    slon  type  \n",
      "0 -89.97  wind  \n",
      "1 -89.94  wind  \n",
      "2 -89.43  wind  \n",
      "3 -89.23  wind  \n",
      "4 -89.23  wind  \n",
      "     yr mo dy        date      time  st mag inj fat   loss closs     slat  \\\n",
      "0  2012  1  9  2012-01-09  08:45:00  TX   0   0   0  0.005   0.0   29.666   \n",
      "1  2012  1  9  2012-01-09  09:05:00  TX   1   0   0    0.5   0.0  29.6756   \n",
      "2  2012  1  9  2012-01-09  11:15:00  TX   0   0   0  0.015   0.0  29.3492   \n",
      "3  2012  1  9  2012-01-09  11:32:00  TX   0   0   0   0.02   0.0  29.2654   \n",
      "4  2012  1  9  2012-01-09  11:34:00  TX   0   0   0   0.01   0.0  29.2827   \n",
      "\n",
      "       slon  type  \n",
      "0  -95.8121  torn  \n",
      "1  -95.6565  torn  \n",
      "2  -95.5771  torn  \n",
      "3    -95.44  torn  \n",
      "4  -95.4356  torn  \n",
      "     yr  mo  dy        date      time  st   mag  inj  fat   loss  closs  \\\n",
      "0  2012   1   8  2012-01-08  16:00:00  MS  1.25    0    0  0.005    0.0   \n",
      "1  2012   1   8  2012-01-08  18:34:00  AL  1.00    0    0  0.000    0.0   \n",
      "2  2012   1  10  2012-01-10  08:05:00  TX  1.00    0    0  0.000    0.0   \n",
      "3  2012   1   8  2012-01-08  20:50:00  MS  1.00    0    0  0.000    0.0   \n",
      "4  2012   1   9  2012-01-09  07:57:00  TX  1.50    0    0  0.000    0.0   \n",
      "\n",
      "    slat   slon  type  \n",
      "0  31.64 -89.56  hail  \n",
      "1  32.35 -86.28  hail  \n",
      "2  33.09 -94.20  hail  \n",
      "3  32.59 -89.59  hail  \n",
      "4  29.53 -96.06  hail  \n",
      "     yr  mo  dy        date      time  st  mag  inj  fat   loss  closs  \\\n",
      "0  2012   1   8  2012-01-08  18:33:00  AL   52    0    0  0.000    0.0   \n",
      "1  2012   1   8  2012-01-08  20:25:00  MS   50    0    0  0.005    0.0   \n",
      "2  2012   1   8  2012-01-08  20:50:00  MS   60    0    0  0.070    0.0   \n",
      "3  2012   1   8  2012-01-08  21:06:00  MS   50    0    0  0.005    0.0   \n",
      "4  2012   1   8  2012-01-08  21:50:00  MS   65    0    0  0.120    0.0   \n",
      "\n",
      "      slat     slon  type  \n",
      "0  32.3400 -86.3000  wind  \n",
      "1  32.4900 -89.7400  wind  \n",
      "2  32.5900 -89.5900  wind  \n",
      "3  32.7000 -89.4800  wind  \n",
      "4  32.8955 -89.2162  wind  \n",
      "     yr mo  dy        date      time  st mag inj fat   loss closs     slat  \\\n",
      "0  2013  1  10  2013-01-10  05:30:00  LA   1   0   0    0.2   0.0   30.265   \n",
      "1  2013  1  10  2013-01-10  05:51:00  LA   1   0   0    0.1   0.0   29.952   \n",
      "2  2013  1  10  2013-01-10  07:35:00  LA   0   0   0  0.015   0.0  30.2757   \n",
      "3  2013  1  12  2013-01-12  15:18:00  KY   2   0   0    0.1   0.0  37.2784   \n",
      "4  2013  1  12  2013-01-12  23:30:00  LA   1   2   0   0.12   0.0  32.1843   \n",
      "\n",
      "       slon  type  \n",
      "0   -91.901  torn  \n",
      "1   -91.779  torn  \n",
      "2  -91.2112  torn  \n",
      "3  -88.3739  torn  \n",
      "4  -93.5888  torn  \n",
      "     yr  mo  dy        date      time  st   mag  inj  fat  loss  closs  \\\n",
      "0  2013   5  31  2013-05-31  17:05:00  OK  5.90    0    0   0.0    0.0   \n",
      "1  2013   1  12  2013-01-12  21:15:00  AR  0.88    0    0   0.0    0.0   \n",
      "2  2013   1  12  2013-01-12  23:00:00  TX  1.00    0    0   0.0    0.0   \n",
      "3  2013   1  12  2013-01-12  23:10:00  TX  1.00    0    0   0.0    0.0   \n",
      "4  2013   1  28  2013-01-28  21:30:00  IA  0.88    0    0   0.0    0.0   \n",
      "\n",
      "      slat     slon  type  \n",
      "0  35.5227 -97.9755  hail  \n",
      "1  34.5000 -93.0500  hail  \n",
      "2  32.2700 -94.9300  hail  \n",
      "3  32.1600 -94.8000  hail  \n",
      "4  42.0200 -92.1100  hail  \n",
      "     yr  mo  dy        date      time  st  mag  inj  fat   loss  closs  \\\n",
      "0  2013   1  10  2013-01-10  07:21:00  MS   50    0    0  0.025    0.0   \n",
      "1  2013   1  10  2013-01-10  07:55:00  MS   50    0    0  0.015    0.0   \n",
      "2  2013   1  10  2013-01-10  08:02:00  MS   50    0    0  0.005    0.0   \n",
      "3  2013   1  10  2013-01-10  10:39:00  LA   60    0    0  0.010    0.0   \n",
      "4  2013   1  10  2013-01-10  10:39:00  LA   70    0    0  0.030    0.0   \n",
      "\n",
      "      slat   slon  type  \n",
      "0  31.5500 -91.39  wind  \n",
      "1  31.7100 -91.06  wind  \n",
      "2  31.9400 -90.97  wind  \n",
      "3  30.8355 -90.15  wind  \n",
      "4  30.9700 -90.10  wind  \n",
      "     yr mo  dy        date      time  st mag inj fat   loss closs     slat  \\\n",
      "0  2014  1  11  2014-01-11  06:37:00  GA   0   0   0  0.003   0.0  34.3328   \n",
      "1  2014  1  11  2014-01-11  14:32:00  VA   0   0   0   0.02   0.0   37.025   \n",
      "2  2014  1  11  2014-01-11  14:32:00  VA   0   0   0   0.02   0.0  36.8769   \n",
      "3  2014  1  11  2014-01-11  14:50:00  VA   0   0   0    0.1   0.0    37.08   \n",
      "4  2014  2  20  2014-02-20  14:25:00  IL   2   1   0    0.0   0.0   39.518   \n",
      "\n",
      "       slon  type  \n",
      "0  -84.5286  torn  \n",
      "1  -76.6377  torn  \n",
      "2  -76.6721  torn  \n",
      "3     -76.3  torn  \n",
      "4   -90.841  torn  \n",
      "     yr  mo  dy        date      time  st   mag  inj  fat  loss  closs  \\\n",
      "0  2014   1  11  2014-01-11  05:21:00  AL  0.88    0    0   0.0    0.0   \n",
      "1  2014   1  11  2014-01-11  05:24:00  AL  1.00    0    0   0.0    0.0   \n",
      "2  2014   1  11  2014-01-11  05:40:00  AL  1.00    0    0   0.0    0.0   \n",
      "3  2014   1  11  2014-01-11  06:45:00  GA  1.00    0    0   0.0    0.0   \n",
      "4  2014   1  21  2014-01-21  15:30:00  FL  1.00    0    0   0.0    0.0   \n",
      "\n",
      "      slat     slon  type  \n",
      "0  33.8003 -85.7615  hail  \n",
      "1  33.7755 -85.7635  hail  \n",
      "2  33.4700 -86.1500  hail  \n",
      "3  34.1700 -84.8000  hail  \n",
      "4  30.3400 -81.6000  hail  \n"
     ]
    },
    {
     "name": "stdout",
     "output_type": "stream",
     "text": [
      "     yr  mo  dy        date      time  st  mag  inj  fat  loss  closs  \\\n",
      "0  2014   1   9  2014-01-09  17:19:00  FL   70    0    0  0.15    0.0   \n",
      "1  2014   1  11  2014-01-11  05:18:00  AL   50    0    0  0.00    0.0   \n",
      "2  2014   1  11  2014-01-11  05:53:00  GA   70    0    0  0.11    0.0   \n",
      "3  2014   1  11  2014-01-11  06:15:00  AL   55    0    0  0.00    0.0   \n",
      "4  2014   1  11  2014-01-11  06:20:00  AL   50    0    0  0.00    0.0   \n",
      "\n",
      "      slat     slon  type  \n",
      "0  27.0717 -80.1382  wind  \n",
      "1  33.7223 -85.8386  wind  \n",
      "2  34.0300 -85.2500  wind  \n",
      "3  32.6100 -86.5500  wind  \n",
      "4  32.4700 -86.6200  wind  \n",
      "     yr mo dy        date      time  st mag inj fat   loss closs     slat  \\\n",
      "0  2015  1  3  2015-01-03  14:05:00  MS   0   0   0  0.001   0.0    31.43   \n",
      "1  2015  1  3  2015-01-03  14:36:00  MS   1   0   0   0.02   0.0    31.68   \n",
      "2  2015  1  3  2015-01-03  14:39:00  MS   1   0   0   0.04   0.0     31.7   \n",
      "3  2015  1  3  2015-01-03  15:04:00  MS   2   0   0  0.507   0.0  32.1304   \n",
      "4  2015  1  3  2015-01-03  15:24:00  MS   1   0   0   0.03   0.0    32.27   \n",
      "\n",
      "       slon  type  \n",
      "0    -89.96  torn  \n",
      "1    -89.68  torn  \n",
      "2    -89.65  torn  \n",
      "3  -89.0711  torn  \n",
      "4    -88.93  torn  \n",
      "     yr  mo  dy        date      time  st   mag  inj  fat  loss  closs  \\\n",
      "0  2015   2   1  2015-02-01  15:48:00  LA  1.00    0    0   0.0    0.0   \n",
      "1  2015   2   1  2015-02-01  16:30:00  LA  1.00    0    0   0.0    0.0   \n",
      "2  2015   2   9  2015-02-09  18:20:00  GA  0.75    0    0   0.0    0.0   \n",
      "3  2015   2  28  2015-02-28  12:51:00  FL  0.75    0    0   0.0    0.0   \n",
      "4  2015   2  28  2015-02-28  17:35:00  FL  0.88    0    0   0.0    0.0   \n",
      "\n",
      "     slat     slon  type  \n",
      "0  32.680 -91.1800  hail  \n",
      "1  31.270 -92.6900  hail  \n",
      "2  31.400 -82.9200  hail  \n",
      "3  26.883 -80.1311  hail  \n",
      "4  27.530 -81.0100  hail  \n",
      "     yr  mo  dy        date      time  st  mag  inj  fat   loss  closs   slat  \\\n",
      "0  2015   1   1  2015-01-01  14:08:00  GA   50    0    0  0.000    0.0  32.06   \n",
      "1  2015   1   1  2015-01-01  14:10:00  GA   50    0    0  0.000    0.0  32.01   \n",
      "2  2015   1   3  2015-01-03  03:15:00  TX   50    0    0  0.001    0.0  31.13   \n",
      "3  2015   1   3  2015-01-03  03:15:00  LA   52    0    0  0.000    0.0  32.42   \n",
      "4  2015   1   3  2015-01-03  03:15:00  LA   53    0    0  0.000    0.0  32.47   \n",
      "\n",
      "    slon  type  \n",
      "0 -81.16  wind  \n",
      "1 -81.10  wind  \n",
      "2 -93.99  wind  \n",
      "3 -93.86  wind  \n",
      "4 -93.80  wind  \n",
      "     yr mo  dy        date      time  st mag inj fat        loss    closs  \\\n",
      "0  2016  1   6  2016-01-06  10:50:00  CA   0   0   0         0.0  75000.0   \n",
      "1  2016  1   8  2016-01-08  05:30:00  FL   0   0   0      2000.0      0.0   \n",
      "2  2016  1   9  2016-01-09  17:45:00  FL   2   3   0   2000000.0      0.0   \n",
      "3  2016  1  15  2016-01-15  10:10:00  FL   1   0   0    200000.0      0.0   \n",
      "4  2016  1  17  2016-01-17  02:10:00  FL   2   2   0  12000000.0      0.0   \n",
      "\n",
      "      slat       slon  type  \n",
      "0  36.9381  -121.3815  torn  \n",
      "1  24.7315   -81.0139  torn  \n",
      "2    26.57    -82.037  torn  \n",
      "3  26.5503   -81.9126  torn  \n",
      "4   27.253   -82.5396  torn  \n",
      "     yr mo dy        date      time  st   mag inj fat     loss closs     slat  \\\n",
      "0  2016  1  8  2016-01-08  16:48:00  LA  0.88   0   0      0.0   0.0     30.2   \n",
      "1  2016  1  8  2016-01-08  17:57:00  TX   1.0   0   0      0.0   0.0  31.5866   \n",
      "2  2016  1  8  2016-01-08  18:00:00  TX  0.75   0   0      0.0   0.0  31.4086   \n",
      "3  2016  1  8  2016-01-08  18:00:00  TX   2.5   0   0  10000.0   0.0    30.64   \n",
      "4  2016  1  8  2016-01-08  18:00:00  TX  1.25   0   0   5000.0   0.0    30.68   \n",
      "\n",
      "       slon  type  \n",
      "0    -93.58  hail  \n",
      "1  -94.6765  hail  \n",
      "2  -94.7236  hail  \n",
      "3    -95.47  hail  \n",
      "4    -95.55  hail  \n",
      "     yr mo dy        date      time  st   mag inj fat    loss closs     slat  \\\n",
      "0  2016  1  6  2016-01-06  04:00:00  AZ  50.0   0   0  5000.0   0.0     33.6   \n",
      "1  2016  1  6  2016-01-06  04:30:00  AZ  52.0   0   0  4000.0   0.0    33.58   \n",
      "2  2016  1  6  2016-01-06  12:56:00  CA  52.0   0   0     0.0   0.0  34.3971   \n",
      "3  2016  1  6  2016-01-06  14:45:00  CA  52.0   0   0     0.0   0.0   33.793   \n",
      "4  2016  1  6  2016-01-06  15:00:00  CA  48.0   0   0  5000.0   0.0  33.3901   \n",
      "\n",
      "        slon  type  \n",
      "0    -112.29  wind  \n",
      "1    -111.93  wind  \n",
      "2  -118.9214  wind  \n",
      "3  -117.7036  wind  \n",
      "4  -117.5947  wind  \n"
     ]
    }
   ],
   "source": [
    "entire_df = pd.DataFrame()\n",
    "\n",
    "for year in years:\n",
    "    for weather_type in types:\n",
    "        url = base_url+''+year+'_'+weather_type+'.csv'\n",
    "        df = pd.read_csv(url, header=None)\n",
    "        df.columns = source_headings[weather_type]\n",
    "        df = df[filtered_columns]\n",
    "        df = df.set_index('yr')\n",
    "        df = df.drop(['yr'])\n",
    "        df = df.reset_index()\n",
    "        df['type'] = weather_type\n",
    "        entire_df = entire_df.append(df)\n",
    "        print(df.head())"
   ]
  },
  {
   "cell_type": "code",
   "execution_count": 4,
   "metadata": {},
   "outputs": [
    {
     "data": {
      "text/plain": [
       "(197287, 14)"
      ]
     },
     "execution_count": 4,
     "metadata": {},
     "output_type": "execute_result"
    }
   ],
   "source": [
    "entire_df.shape"
   ]
  },
  {
   "cell_type": "code",
   "execution_count": 5,
   "metadata": {
    "collapsed": true
   },
   "outputs": [],
   "source": [
    "entire_df = entire_df.reset_index(drop=True)"
   ]
  },
  {
   "cell_type": "code",
   "execution_count": 6,
   "metadata": {
    "collapsed": true
   },
   "outputs": [],
   "source": [
    "entire_df = entire_df.reset_index()"
   ]
  },
  {
   "cell_type": "code",
   "execution_count": 7,
   "metadata": {
    "scrolled": true
   },
   "outputs": [
    {
     "data": {
      "text/plain": [
       "index                 int64\n",
       "yr                    int64\n",
       "mo                    int64\n",
       "dy                    int64\n",
       "date                 object\n",
       "time                 object\n",
       "st                   object\n",
       "mag                 float64\n",
       "inj                   int64\n",
       "fat                   int64\n",
       "loss                float64\n",
       "closs               float64\n",
       "slat                float64\n",
       "slon                float64\n",
       "type                 object\n",
       "date_time    datetime64[ns]\n",
       "dtype: object"
      ]
     },
     "execution_count": 7,
     "metadata": {},
     "output_type": "execute_result"
    }
   ],
   "source": [
    "entire_df['yr'] = pd.to_numeric(entire_df['yr'],errors=\"coerce\")\n",
    "entire_df['mo'] = pd.to_numeric(entire_df['mo'],errors=\"coerce\")\n",
    "entire_df['dy'] = pd.to_numeric(entire_df['dy'],errors=\"coerce\")\n",
    "entire_df['mag'] = pd.to_numeric(entire_df['mag'],errors=\"coerce\")\n",
    "entire_df['inj'] = pd.to_numeric(entire_df['inj'],errors=\"coerce\")\n",
    "entire_df['fat'] = pd.to_numeric(entire_df['fat'],errors=\"coerce\")\n",
    "entire_df['loss'] = pd.to_numeric(entire_df['loss'],errors=\"coerce\")\n",
    "entire_df['closs'] = pd.to_numeric(entire_df['closs'],errors=\"coerce\")\n",
    "entire_df['slat'] = pd.to_numeric(entire_df['slat'],errors=\"coerce\")\n",
    "entire_df['slon'] = pd.to_numeric(entire_df['slon'],errors=\"coerce\")\n",
    "\n",
    "entire_df['date_time'] = entire_df['date']+' '+entire_df['time']\n",
    "\n",
    "\n",
    "entire_df['date_time'] = pd.to_datetime(entire_df['date_time'],format=\"%Y-%m-%d %H:%M:%S\")\n",
    "    \n",
    "entire_df.dtypes"
   ]
  },
  {
   "cell_type": "code",
   "execution_count": 8,
   "metadata": {},
   "outputs": [
    {
     "data": {
      "text/html": [
       "<div>\n",
       "<style>\n",
       "    .dataframe thead tr:only-child th {\n",
       "        text-align: right;\n",
       "    }\n",
       "\n",
       "    .dataframe thead th {\n",
       "        text-align: left;\n",
       "    }\n",
       "\n",
       "    .dataframe tbody tr th {\n",
       "        vertical-align: top;\n",
       "    }\n",
       "</style>\n",
       "<table border=\"1\" class=\"dataframe\">\n",
       "  <thead>\n",
       "    <tr style=\"text-align: right;\">\n",
       "      <th></th>\n",
       "      <th>index</th>\n",
       "      <th>yr</th>\n",
       "      <th>mo</th>\n",
       "      <th>dy</th>\n",
       "      <th>st</th>\n",
       "      <th>mag</th>\n",
       "      <th>inj</th>\n",
       "      <th>fat</th>\n",
       "      <th>loss</th>\n",
       "      <th>closs</th>\n",
       "      <th>slat</th>\n",
       "      <th>slon</th>\n",
       "      <th>type</th>\n",
       "      <th>date_time</th>\n",
       "    </tr>\n",
       "  </thead>\n",
       "  <tbody>\n",
       "    <tr>\n",
       "      <th>0</th>\n",
       "      <td>0</td>\n",
       "      <td>2010</td>\n",
       "      <td>1</td>\n",
       "      <td>18</td>\n",
       "      <td>CA</td>\n",
       "      <td>0.0</td>\n",
       "      <td>0</td>\n",
       "      <td>0</td>\n",
       "      <td>0.00</td>\n",
       "      <td>0.0</td>\n",
       "      <td>36.7300</td>\n",
       "      <td>-119.8600</td>\n",
       "      <td>torn</td>\n",
       "      <td>2010-01-18 17:24:00</td>\n",
       "    </tr>\n",
       "    <tr>\n",
       "      <th>1</th>\n",
       "      <td>1</td>\n",
       "      <td>2010</td>\n",
       "      <td>1</td>\n",
       "      <td>19</td>\n",
       "      <td>CA</td>\n",
       "      <td>0.0</td>\n",
       "      <td>0</td>\n",
       "      <td>0</td>\n",
       "      <td>0.00</td>\n",
       "      <td>0.0</td>\n",
       "      <td>34.4248</td>\n",
       "      <td>-119.8770</td>\n",
       "      <td>torn</td>\n",
       "      <td>2010-01-19 12:32:00</td>\n",
       "    </tr>\n",
       "    <tr>\n",
       "      <th>2</th>\n",
       "      <td>2</td>\n",
       "      <td>2010</td>\n",
       "      <td>1</td>\n",
       "      <td>19</td>\n",
       "      <td>CA</td>\n",
       "      <td>1.0</td>\n",
       "      <td>0</td>\n",
       "      <td>0</td>\n",
       "      <td>0.50</td>\n",
       "      <td>0.0</td>\n",
       "      <td>33.7160</td>\n",
       "      <td>-118.1250</td>\n",
       "      <td>torn</td>\n",
       "      <td>2010-01-19 14:55:00</td>\n",
       "    </tr>\n",
       "    <tr>\n",
       "      <th>3</th>\n",
       "      <td>3</td>\n",
       "      <td>2010</td>\n",
       "      <td>1</td>\n",
       "      <td>20</td>\n",
       "      <td>LA</td>\n",
       "      <td>0.0</td>\n",
       "      <td>0</td>\n",
       "      <td>0</td>\n",
       "      <td>0.00</td>\n",
       "      <td>0.0</td>\n",
       "      <td>30.8150</td>\n",
       "      <td>-92.0455</td>\n",
       "      <td>torn</td>\n",
       "      <td>2010-01-20 15:27:00</td>\n",
       "    </tr>\n",
       "    <tr>\n",
       "      <th>4</th>\n",
       "      <td>4</td>\n",
       "      <td>2010</td>\n",
       "      <td>1</td>\n",
       "      <td>20</td>\n",
       "      <td>TX</td>\n",
       "      <td>1.0</td>\n",
       "      <td>0</td>\n",
       "      <td>0</td>\n",
       "      <td>0.04</td>\n",
       "      <td>0.0</td>\n",
       "      <td>31.5095</td>\n",
       "      <td>-93.9232</td>\n",
       "      <td>torn</td>\n",
       "      <td>2010-01-20 16:26:00</td>\n",
       "    </tr>\n",
       "  </tbody>\n",
       "</table>\n",
       "</div>"
      ],
      "text/plain": [
       "   index    yr  mo  dy  st  mag  inj  fat  loss  closs     slat      slon  \\\n",
       "0      0  2010   1  18  CA  0.0    0    0  0.00    0.0  36.7300 -119.8600   \n",
       "1      1  2010   1  19  CA  0.0    0    0  0.00    0.0  34.4248 -119.8770   \n",
       "2      2  2010   1  19  CA  1.0    0    0  0.50    0.0  33.7160 -118.1250   \n",
       "3      3  2010   1  20  LA  0.0    0    0  0.00    0.0  30.8150  -92.0455   \n",
       "4      4  2010   1  20  TX  1.0    0    0  0.04    0.0  31.5095  -93.9232   \n",
       "\n",
       "   type           date_time  \n",
       "0  torn 2010-01-18 17:24:00  \n",
       "1  torn 2010-01-19 12:32:00  \n",
       "2  torn 2010-01-19 14:55:00  \n",
       "3  torn 2010-01-20 15:27:00  \n",
       "4  torn 2010-01-20 16:26:00  "
      ]
     },
     "execution_count": 8,
     "metadata": {},
     "output_type": "execute_result"
    }
   ],
   "source": [
    "entire_df = entire_df.drop(['date','time'], axis=1)\n",
    "\n",
    "entire_df.head()"
   ]
  },
  {
   "cell_type": "code",
   "execution_count": 9,
   "metadata": {},
   "outputs": [
    {
     "data": {
      "text/plain": [
       "index        0\n",
       "yr           0\n",
       "mo           0\n",
       "dy           0\n",
       "st           0\n",
       "mag          0\n",
       "inj          0\n",
       "fat          0\n",
       "loss         0\n",
       "closs        0\n",
       "slat         0\n",
       "slon         0\n",
       "type         0\n",
       "date_time    0\n",
       "dtype: int64"
      ]
     },
     "execution_count": 9,
     "metadata": {},
     "output_type": "execute_result"
    }
   ],
   "source": [
    "# none to drop\n",
    "\n",
    "entire_df.isnull().sum()"
   ]
  },
  {
   "cell_type": "code",
   "execution_count": 10,
   "metadata": {
    "collapsed": true
   },
   "outputs": [],
   "source": [
    "entire_df.to_csv('AllEvents.csv')"
   ]
  },
  {
   "cell_type": "code",
   "execution_count": 11,
   "metadata": {},
   "outputs": [],
   "source": [
    "from sqlalchemy import create_engine,MetaData,Table,Column\n",
    "\n",
    "engine = create_engine('sqlite:///SevereWeather.sqlite')\n",
    "entire_df.to_sql('Events', engine)"
   ]
  },
  {
   "cell_type": "code",
   "execution_count": 12,
   "metadata": {
    "collapsed": true
   },
   "outputs": [],
   "source": [
    "from sqlalchemy.orm import Session\n",
    "from sqlalchemy.ext.automap import automap_base"
   ]
  },
  {
   "cell_type": "code",
   "execution_count": 13,
   "metadata": {
    "collapsed": true
   },
   "outputs": [],
   "source": [
    "# produce our own MetaData object\n",
    "metadata = MetaData()\n",
    "\n",
    "# we can reflect it ourselves from a database, using options\n",
    "# such as 'only' to limit what tables we look at...\n",
    "metadata.reflect(engine)\n"
   ]
  },
  {
   "cell_type": "code",
   "execution_count": 14,
   "metadata": {
    "collapsed": true
   },
   "outputs": [],
   "source": [
    "Base = automap_base(metadata=metadata)"
   ]
  },
  {
   "cell_type": "code",
   "execution_count": 15,
   "metadata": {
    "collapsed": true
   },
   "outputs": [],
   "source": [
    "Base.prepare()"
   ]
  },
  {
   "cell_type": "code",
   "execution_count": 16,
   "metadata": {},
   "outputs": [
    {
     "data": {
      "text/plain": [
       "immutabledict({'Events': Table('Events', MetaData(bind=None), Column('level_0', BIGINT(), table=<Events>), Column('index', BIGINT(), table=<Events>), Column('yr', BIGINT(), table=<Events>), Column('mo', BIGINT(), table=<Events>), Column('dy', BIGINT(), table=<Events>), Column('st', TEXT(), table=<Events>), Column('mag', FLOAT(), table=<Events>), Column('inj', BIGINT(), table=<Events>), Column('fat', BIGINT(), table=<Events>), Column('loss', FLOAT(), table=<Events>), Column('closs', FLOAT(), table=<Events>), Column('slat', FLOAT(), table=<Events>), Column('slon', FLOAT(), table=<Events>), Column('type', TEXT(), table=<Events>), Column('date_time', DATETIME(), table=<Events>), schema=None)})"
      ]
     },
     "execution_count": 16,
     "metadata": {},
     "output_type": "execute_result"
    }
   ],
   "source": [
    "Base.metadata.tables"
   ]
  },
  {
   "cell_type": "code",
   "execution_count": 17,
   "metadata": {},
   "outputs": [
    {
     "name": "stdout",
     "output_type": "stream",
     "text": [
      "level_0,BIGINT\n",
      "index,BIGINT\n",
      "yr,BIGINT\n",
      "mo,BIGINT\n",
      "dy,BIGINT\n",
      "st,TEXT\n",
      "mag,FLOAT\n",
      "inj,BIGINT\n",
      "fat,BIGINT\n",
      "loss,FLOAT\n",
      "closs,FLOAT\n",
      "slat,FLOAT\n",
      "slon,FLOAT\n",
      "type,TEXT\n",
      "date_time,DATETIME\n"
     ]
    }
   ],
   "source": [
    "from sqlalchemy import inspect,func\n",
    "inspector = inspect(engine)\n",
    "\n",
    "for table_name in inspector.get_table_names():\n",
    "    for column in inspector.get_columns(table_name):\n",
    "        print(f\"{column['name']},{column['type']}\")"
   ]
  },
  {
   "cell_type": "code",
   "execution_count": 18,
   "metadata": {
    "collapsed": true
   },
   "outputs": [],
   "source": [
    "Events = Table('Events',metadata)"
   ]
  },
  {
   "cell_type": "code",
   "execution_count": 19,
   "metadata": {
    "collapsed": true
   },
   "outputs": [],
   "source": [
    "inspector.reflecttable(Events,None)"
   ]
  },
  {
   "cell_type": "code",
   "execution_count": 20,
   "metadata": {
    "collapsed": true
   },
   "outputs": [],
   "source": [
    "session = Session(bind=engine)\n",
    "\n",
    "results = session.query(Events.columns['yr']).limit(10)"
   ]
  },
  {
   "cell_type": "code",
   "execution_count": 21,
   "metadata": {},
   "outputs": [
    {
     "name": "stdout",
     "output_type": "stream",
     "text": [
      "(2010,)\n",
      "(2010,)\n",
      "(2010,)\n",
      "(2010,)\n",
      "(2010,)\n",
      "(2010,)\n",
      "(2010,)\n",
      "(2010,)\n",
      "(2010,)\n",
      "(2010,)\n"
     ]
    }
   ],
   "source": [
    "for r in results:\n",
    "    print(r)"
   ]
  },
  {
   "cell_type": "code",
   "execution_count": 22,
   "metadata": {
    "collapsed": true,
    "scrolled": true
   },
   "outputs": [],
   "source": [
    "results = session.query(Events.columns['yr']).limit(10)"
   ]
  },
  {
   "cell_type": "code",
   "execution_count": 23,
   "metadata": {},
   "outputs": [
    {
     "data": {
      "text/plain": [
       "Column('yr', BIGINT(), table=<Events>)"
      ]
     },
     "execution_count": 23,
     "metadata": {},
     "output_type": "execute_result"
    }
   ],
   "source": [
    "Events.columns['yr']"
   ]
  },
  {
   "cell_type": "code",
   "execution_count": 24,
   "metadata": {
    "collapsed": true
   },
   "outputs": [],
   "source": [
    "results = session.query(Events.columns['yr'],Events.columns['st'],Events.columns['mo'],func.sum(Events.columns['loss'])).\\\n",
    "group_by(Events.columns['yr'],Events.columns['st'],Events.columns['mo']).all()"
   ]
  },
  {
   "cell_type": "code",
   "execution_count": null,
   "metadata": {
    "collapsed": true
   },
   "outputs": [],
   "source": []
  },
  {
   "cell_type": "code",
   "execution_count": null,
   "metadata": {
    "collapsed": true
   },
   "outputs": [],
   "source": []
  }
 ],
 "metadata": {
  "kernelspec": {
   "display_name": "Python 3",
   "language": "python",
   "name": "python3"
  },
  "language_info": {
   "codemirror_mode": {
    "name": "ipython",
    "version": 3
   },
   "file_extension": ".py",
   "mimetype": "text/x-python",
   "name": "python",
   "nbconvert_exporter": "python",
   "pygments_lexer": "ipython3",
   "version": "3.6.2"
  }
 },
 "nbformat": 4,
 "nbformat_minor": 2
}
