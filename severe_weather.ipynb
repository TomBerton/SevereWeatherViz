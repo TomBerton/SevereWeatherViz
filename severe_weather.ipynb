{
 "cells": [
  {
   "cell_type": "markdown",
   "metadata": {},
   "source": [
    "## Severe Weather Database Engineering"
   ]
  },
  {
   "cell_type": "code",
   "execution_count": 1,
   "metadata": {},
   "outputs": [],
   "source": [
    "# import necessary libraries\n",
    "import sqlalchemy\n",
    "from sqlalchemy.ext.automap import automap_base\n",
    "from sqlalchemy.orm import Session\n",
    "from sqlalchemy import inspect, create_engine, func, MetaData, Table\n",
    "import datetime as dt\n",
    "from datetime import time\n",
    "import pandas as pd\n",
    "import numpy as np\n",
    "import json"
   ]
  },
  {
   "cell_type": "code",
   "execution_count": 2,
   "metadata": {},
   "outputs": [],
   "source": [
    "# Database Setup\n",
    "engine = create_engine('sqlite:///SevereWeather.sqlite', echo=False)\n",
    "\n",
    "# produce our own MetaData object\n",
    "metadata = MetaData()\n",
    "\n",
    "# we can reflect it ourselves from a database, using options\n",
    "# such as 'only' to limit what tables we look at...\n",
    "metadata.reflect(engine)\n",
    "\n",
    "Base = automap_base()\n",
    "Base.prepare(engine, reflect=True)"
   ]
  },
  {
   "cell_type": "code",
   "execution_count": 3,
   "metadata": {},
   "outputs": [],
   "source": [
    "inspector = inspect(engine)\n",
    "Events = Table('Events',metadata)\n",
    "inspector.reflecttable(Events, None)\n",
    "session = Session(bind=engine)"
   ]
  },
  {
   "cell_type": "code",
   "execution_count": 4,
   "metadata": {},
   "outputs": [],
   "source": [
    "events_df = pd.read_sql_table('Events', engine)"
   ]
  },
  {
   "cell_type": "code",
   "execution_count": 5,
   "metadata": {},
   "outputs": [
    {
     "name": "stdout",
     "output_type": "stream",
     "text": [
      "<class 'pandas.core.frame.DataFrame'>\n",
      "RangeIndex: 197287 entries, 0 to 197286\n",
      "Data columns (total 15 columns):\n",
      "level_0      197287 non-null int64\n",
      "index        197287 non-null int64\n",
      "yr           197287 non-null int64\n",
      "mo           197287 non-null int64\n",
      "dy           197287 non-null int64\n",
      "st           197287 non-null object\n",
      "mag          197287 non-null float64\n",
      "inj          197287 non-null int64\n",
      "fat          197287 non-null int64\n",
      "loss         197287 non-null float64\n",
      "closs        197287 non-null float64\n",
      "slat         197287 non-null float64\n",
      "slon         197287 non-null float64\n",
      "type         197287 non-null object\n",
      "date_time    197287 non-null datetime64[ns]\n",
      "dtypes: datetime64[ns](1), float64(5), int64(7), object(2)\n",
      "memory usage: 22.6+ MB\n"
     ]
    }
   ],
   "source": [
    "events_df.info()"
   ]
  },
  {
   "cell_type": "code",
   "execution_count": 6,
   "metadata": {},
   "outputs": [],
   "source": [
    "# Make the date_time a string\n",
    "events_df['date_time'] = [dt.date.strftime(x,'%Y-%m-%d : %H:%M:%S') for x in events_df.date_time]"
   ]
  },
  {
   "cell_type": "code",
   "execution_count": 7,
   "metadata": {},
   "outputs": [
    {
     "name": "stdout",
     "output_type": "stream",
     "text": [
      "<class 'pandas.core.frame.DataFrame'>\n",
      "RangeIndex: 197287 entries, 0 to 197286\n",
      "Data columns (total 15 columns):\n",
      "level_0      197287 non-null int64\n",
      "index        197287 non-null int64\n",
      "yr           197287 non-null int64\n",
      "mo           197287 non-null int64\n",
      "dy           197287 non-null int64\n",
      "st           197287 non-null object\n",
      "mag          197287 non-null float64\n",
      "inj          197287 non-null int64\n",
      "fat          197287 non-null int64\n",
      "loss         197287 non-null float64\n",
      "closs        197287 non-null float64\n",
      "slat         197287 non-null float64\n",
      "slon         197287 non-null float64\n",
      "type         197287 non-null object\n",
      "date_time    197287 non-null object\n",
      "dtypes: float64(5), int64(7), object(3)\n",
      "memory usage: 22.6+ MB\n"
     ]
    }
   ],
   "source": [
    "events_df.info()"
   ]
  },
  {
   "cell_type": "markdown",
   "metadata": {},
   "source": [
    "### Get the tornado data from 2010"
   ]
  },
  {
   "cell_type": "code",
   "execution_count": 8,
   "metadata": {},
   "outputs": [],
   "source": [
    "tornado_df = events_df.loc[events_df['type']==\"torn\"]"
   ]
  },
  {
   "cell_type": "code",
   "execution_count": 9,
   "metadata": {},
   "outputs": [],
   "source": [
    "# Convert the df to a csv file. \n",
    "# Upload the csv file into a geojson converter.\n",
    "tornado_df.to_csv('tornado.csv', encoding='utf-8', index=False)"
   ]
  },
  {
   "cell_type": "markdown",
   "metadata": {},
   "source": [
    "### Get the hail data from 2010"
   ]
  },
  {
   "cell_type": "code",
   "execution_count": 10,
   "metadata": {},
   "outputs": [],
   "source": [
    "hail_df = events_df.loc[events_df['type']==\"hail\"]"
   ]
  },
  {
   "cell_type": "code",
   "execution_count": 11,
   "metadata": {},
   "outputs": [],
   "source": [
    "# Convert the df to a csv file. \n",
    "# Upload the csv file into a geojson converter.\n",
    "hail_df.to_csv('hail.csv', encoding='utf-8', index=False)"
   ]
  },
  {
   "cell_type": "markdown",
   "metadata": {},
   "source": [
    "### Get the  wind data from 2010"
   ]
  },
  {
   "cell_type": "code",
   "execution_count": 12,
   "metadata": {},
   "outputs": [],
   "source": [
    "wind_df = events_df.loc[events_df['type']==\"wind\"]"
   ]
  },
  {
   "cell_type": "code",
   "execution_count": 14,
   "metadata": {},
   "outputs": [],
   "source": [
    "# Convert the df to a csv file. \n",
    "# Upload the csv file into a geojson converter.\n",
    "wind_df.to_csv('wind.csv', encoding='utf-8', index=False)"
   ]
  },
  {
   "cell_type": "code",
   "execution_count": null,
   "metadata": {},
   "outputs": [],
   "source": []
  }
 ],
 "metadata": {
  "kernelspec": {
   "display_name": "Python 3",
   "language": "python",
   "name": "python3"
  },
  "language_info": {
   "codemirror_mode": {
    "name": "ipython",
    "version": 3
   },
   "file_extension": ".py",
   "mimetype": "text/x-python",
   "name": "python",
   "nbconvert_exporter": "python",
   "pygments_lexer": "ipython3",
   "version": "3.6.4"
  }
 },
 "nbformat": 4,
 "nbformat_minor": 2
}
